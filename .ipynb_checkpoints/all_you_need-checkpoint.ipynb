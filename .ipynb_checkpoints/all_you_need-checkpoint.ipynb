{
 "cells": [
  {
   "cell_type": "markdown",
   "metadata": {},
   "source": [
    "# PYTHON IS ALL YOU NEED\n",
    "\n",
    "## Porque python?\n",
    "\n",
    "Sencillo Python es un lenguaje de programacion chevere, facil, didactico y para toda la familia\n",
    "\n",
    "## Que es python\n",
    "\n",
    "## Caracteristicas\n",
    "\n",
    "## Areas de uso de python"
   ]
  },
  {
   "cell_type": "markdown",
   "metadata": {},
   "source": [
    "### Funciones integrales \n",
    "Son funciones que ya python trae con sigo\n",
    "- input(): Es un campo para que el usuario ingrese informacion\n",
    "- print(): La consola muestra la informacion en pantalla\n",
    "- float(): indico que la informacion que se registro es un numero decimal\n",
    "- int(): indico que la informacion que se registro es una cadena de texto\n",
    "- round(): indico que el numero decimal lo voy a reducir a los numeros indicados\n",
    "- len(): Cantidad de caracteres que componen el texto"
   ]
  },
  {
   "cell_type": "code",
   "execution_count": null,
   "metadata": {
    "vscode": {
     "languageId": "plaintext"
    }
   },
   "outputs": [],
   "source": [
    "# Las variables son espacios en la memoria donde se guarda informacion\n",
    "\n",
    "nombre = \"Aureliano buendia\"\n",
    "numero = 1997115\n",
    "\n",
    "# que tipo de variables existen int, float, complex, str, bool, NoneType\n",
    "print(f'la variable nombre es de tipo: {type(nombre)}') #str\n",
    "print(f'la variable numero es de tipo: {type(numero)}') #int"
   ]
  },
  {
   "cell_type": "code",
   "execution_count": null,
   "metadata": {
    "vscode": {
     "languageId": "plaintext"
    }
   },
   "outputs": [],
   "source": [
    "numero_decimal = float(input('Ingresa un numero decimal: '))\n",
    "print(numero_decimal)\n",
    "print(f'la variable numero decimal es: {type(numero_decimal)}') #float\n",
    "\n",
    "numero_reducido = round(numero_decimal,2)\n",
    "print(numero_reducido)"
   ]
  },
  {
   "cell_type": "markdown",
   "metadata": {},
   "source": [
    "### Operaciones de texto\n",
    "\n",
    "- Variable.upper() = Los caracteres los pone todos en mayuscula\n",
    "- variable.lower() = Los caractes los pone todos en minuscula\n",
    "- variable.capitalize() = La primera letra en mayuscula\n",
    "- variable.title() = La primera letra de cada palabra la pone en mayuscula\n",
    "- variable.strip() = elimina espacios en el inicio y el final de una palabra\n",
    "- variable.replace(\"a\",\"b\") = remplaza el parametro \"a\" por \"b\"\n",
    "\n",
    "*SLICING*\n",
    "\n",
    "- variable[2] = me devuelve el caracte en el indice 2\n",
    "- variable[~~start~~ ~~stop~~ ~~step~~] = variable[::-1]\n",
    "\n"
   ]
  },
  {
   "cell_type": "code",
   "execution_count": 11,
   "metadata": {
    "vscode": {
     "languageId": "plaintext"
    }
   },
   "outputs": [
    {
     "name": "stdout",
     "output_type": "stream",
     "text": [
      "mayuscula  AURELIANO BUENDIA\n",
      "minuscula  aureliano buendia\n",
      "capitalize  Aureliano buendia\n",
      "title  Aureliano Buendia\n",
      "strip  aureliano buendia\n",
      "replace  @ureli@no buendi@\n",
      "r\n",
      "urelia\n"
     ]
    }
   ],
   "source": [
    "name = \"aureliano buendia\"\n",
    "name_upper = name.upper()\n",
    "print(\"mayuscula: \", name_upper)\n",
    "name_lower = name.lower()\n",
    "print(\"minuscula: \", name_lower)\n",
    "name_capitalize = name.capitalize()\n",
    "print(\"capitalize: \", name_capitalize)\n",
    "name_title = name.title()\n",
    "print(\"title: \", name_title)\n",
    "name_strip = name.strip()\n",
    "print(\"strip: \", name_strip)\n",
    "name_replace = name.replace(\"a\",\"@\")\n",
    "print(\"replace: \", name_replace)\n",
    "\n",
    "print(name[2])\n",
    "print(name[1:7])\n"
   ]
  },
  {
   "cell_type": "markdown",
   "metadata": {},
   "source": [
    "## Ciclos while y for\n",
    "Los bules while y for son una forma de iterar algo repetidamente, el while se cumple hasta que una condicion o se rompe el ciclo, el bucle for se itera por una lista hasta que la lista termina"
   ]
  },
  {
   "cell_type": "code",
   "execution_count": null,
   "metadata": {
    "vscode": {
     "languageId": "plaintext"
    }
   },
   "outputs": [],
   "source": [
    "# BUCLE while\n",
    "\n",
    "numero = 10\n",
    "lista_pares = []\n",
    "while numero <= 10:\n",
    "    print(numero)\n",
    "    if numero % 2 == 0:\n",
    "        lista_pares.append(numero)\n",
    "else:\n",
    "    print('El bucle termino)\n",
    "\n",
    "print(lista_pares)\n",
    "    \n"
   ]
  },
  {
   "cell_type": "code",
   "execution_count": 18,
   "metadata": {
    "vscode": {
     "languageId": "plaintext"
    }
   },
   "outputs": [
    {
     "ename": "IndentationError",
     "evalue": "expected an indented block (3500831646.py, line 14)",
     "output_type": "error",
     "traceback": [
      "\u001b[0;36m  Input \u001b[0;32mIn [18]\u001b[0;36m\u001b[0m\n\u001b[0;31m    break\u001b[0m\n\u001b[0m    ^\u001b[0m\n\u001b[0;31mIndentationError\u001b[0m\u001b[0;31m:\u001b[0m expected an indented block\n"
     ]
    }
   ],
   "source": [
    "# BUCLE for\n",
    "\n",
    "numero = 2\n",
    "name = \"aureliano buendia\"\n",
    "name_lista = list(name)\n",
    "\n",
    "for i in range(numero+1):\n",
    "    print(i)\n",
    "\n",
    "onli_name = []\n",
    "for i in name:\n",
    "    onli_name.append(i)\n",
    "    if i == \"o\":\n",
    "        break\n",
    "\n",
    "\n",
    "lista_a = []\n",
    "lista_sin_a = []\n",
    "for i in name_lista:\n",
    "    print(i)\n",
    "    if i == \"a\":\n",
    "        lista_a.append(i)\n",
    "        continue\n",
    "    else:\n",
    "        lista_sin_a.append(i)\n",
    "\n",
    "print(f'lista sin la \"a\": {lista_sin_a}')\n",
    "print(f'lista de solo \"a\": {lista_a}')\n",
    "print(f'solo el nombre: {onli_name}')"
   ]
  },
  {
   "cell_type": "code",
   "execution_count": 13,
   "metadata": {},
   "outputs": [
    {
     "name": "stdout",
     "output_type": "stream",
     "text": [
      "['a', 'u', 'r', 'e', 'l', 'i', 'a', 'n', 'o', ' ', 'b', 'u', 'e', 'n', 'd', 'i', 'a']\n"
     ]
    }
   ],
   "source": []
  },
  {
   "cell_type": "code",
   "execution_count": 14,
   "metadata": {},
   "outputs": [
    {
     "name": "stdout",
     "output_type": "stream",
     "text": [
      "['a', 'a', 'a']\n"
     ]
    }
   ],
   "source": []
  },
  {
   "cell_type": "code",
   "execution_count": 17,
   "metadata": {},
   "outputs": [
    {
     "name": "stdout",
     "output_type": "stream",
     "text": [
      "['u', 'r', 'e', 'l', 'i', 'n', 'o', ' ', 'b', 'u', 'e', 'n', 'd', 'i']\n"
     ]
    }
   ],
   "source": []
  },
  {
   "cell_type": "code",
   "execution_count": null,
   "metadata": {},
   "outputs": [],
   "source": []
  }
 ],
 "metadata": {
  "kernelspec": {
   "display_name": "Python 3 (ipykernel)",
   "language": "python",
   "name": "python3"
  },
  "language_info": {
   "codemirror_mode": {
    "name": "ipython",
    "version": 3
   },
   "file_extension": ".py",
   "mimetype": "text/x-python",
   "name": "python",
   "nbconvert_exporter": "python",
   "pygments_lexer": "ipython3",
   "version": "3.9.12"
  }
 },
 "nbformat": 4,
 "nbformat_minor": 2
}
