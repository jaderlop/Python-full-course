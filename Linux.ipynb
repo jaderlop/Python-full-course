{
 "cells": [
  {
   "cell_type": "code",
   "execution_count": null,
   "metadata": {},
   "outputs": [],
   "source": []
  },
  {
   "attachments": {},
   "cell_type": "markdown",
   "metadata": {},
   "source": [
    "### ¿QUE ES UN SISTEMA OPERATIVO (SO)?\n",
    "Un sistema operativo o SO, es un conjunto de programas que gestionan los recursos del hardware como la memoria, el procesador los dispositivos de entra y de salida. (de esto se encarga el *kernel* que viene a ser como el motor y esqueleto de un automovil lo que permite que todo funcione por dentro) El sistema operativo completo ademas del kernel, incluye los comandos, interfaces graficas, bibliotecas para hacer mas amigable la interaccion con una maquina (el sistema operativo viene a ser el volante, sillon, espejos y frenos de nuestro vehiculo permitiendo usarlo de forma comoda y controlada)\n",
    "\n",
    "### ¿QUE ES EL CODIGO ABIERTO?\n",
    "El codigo abierto (Opens source) es un modelo de desarrollo de software basado en la colaboracion abierta,donde el codigo fuente es publico. Ampliando la participacion de terceros permitiendo que estos modifiquen el codigo fuente y compartan esta tecnologia,\n",
    "\n",
    "### ¿QUE ES UNA DISTRIBUCION?\n",
    "Una distribucion o distro es un conjunto de software especifico, incluido el sistema operativo ya compilado y configurado para su uso\n",
    "\n",
    "### DISTRIBUCIONES BASADAS EN OTRAS\n",
    "Si ya existe la rueda ¿para que re inventarla? lo mejor es usarla y mejorarla, con este pensamiento se parte de distribuciones base como (Debian o Ubuntu y se empiezan agregar o quitar funciones segun las necesidades del proyecto) gracias a esto existe una bifurcacion de distribuciones basadas en distros ya creadas que se adaptan a diferentes necesidades, educativos, empresariales, hacking, de rendimiento, etc.\n",
    "\n",
    "### ETRUCTURA DE LINUX\n",
    "La estructura de linux se basa en una estructura gerarquica paritendo desde la raiz, en esta estructura todo se representa como un fichero desde: los archivos, los documentos, los dispositivos y procesos. Los ficheros almacena datos o configuraciones que influyen directamente en el comportamiento del sistema. Los ficheros se pueden organizar en particiones, cada uno con su propio sistema de archivos\n",
    "\n",
    "**Componentes del sistema de fichero:** En el nucleo del sistema de ficheros estan los INODOS, BLOQUES Y SUPER BLOQUES\n",
    "- INODOS = Guarda informacion o metadatos de un fichero como permisos, propietarios o tamaño que ocupa (no almacena el nombre del archivo solo su informacion) si los inodos no tienen referencia se pueden usar para guardar informacion de forma oculta no infalible ***inodos huerfanos***\n",
    "\n",
    "- BLOQUES = Unidades de datos donde se guarda la informacion de los ficheros, donde se relacionan el nombre del fichero y numero de direccion del inodo (para saber a nivel de sistema que fichero esta dentro de que directorio)\n",
    "\n",
    "- SUPER BLOQUE = Contiene la informacion crucial del sistema de ficheros, como el tamñano, numero de inodo estado del sistema de archivos, tipo de sistema de archivos (ext4)\n",
    "\n",
    "**OTROS CONCEPTOS CLAVE:**\n",
    "- *Fichero == Archivo*\n",
    "- *Directorio == Carpeta*\n",
    "- **Enlace duro(hard link)**: Referencia adicional al inodo de un archivo existente (Es muy util porque puedo acceder a un archivo desde una carpeta diferente)\n",
    "- **Enalce blando(soft link)**: Referencia a una ruta o un fichero (Como un acceso directo una referencai a la ruta de otro archivo)\n",
    "\n",
    "**PERMISOS:** Los permisos en linux se dividen en tres: \n",
    "- lectura(read): Ver contenido\n",
    "- escritura(write): Modificar contenido\n",
    "- ejecucion(Execute): Ejecutar al archivo o acceder a un directorio\n",
    "\n",
    "Se pueden asignar estos permisos a tres tipos de usuarios dentro del sistema.\n",
    "1) Propietario(u): Quien creo el fichero o directorio \n",
    "2) Grupo(g): Grupo al que pertence el propietario\n",
    "3) Otros(o): Todos los demas usuarios\n",
    "\n",
    "Lo importante y critico son los permisos que tengo no la direccion en la que me encuentro para ejecutar comandos.\n",
    "\n",
    "Los permisos se asignan de forma octal o simbolica\n",
    "\n",
    "\n",
    "\n",
    "\n"
   ]
  }
 ],
 "metadata": {
  "language_info": {
   "name": "python"
  },
  "orig_nbformat": 4
 },
 "nbformat": 4,
 "nbformat_minor": 2
}
